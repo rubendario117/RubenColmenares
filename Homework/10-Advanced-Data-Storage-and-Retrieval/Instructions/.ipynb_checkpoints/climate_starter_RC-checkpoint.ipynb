{
 "cells": [
  {
   "cell_type": "code",
   "execution_count": 76,
   "metadata": {},
   "outputs": [],
   "source": [
    "# Python SQL toolkit and Object Relational Mapper\n",
    "import sqlalchemy\n",
    "from sqlalchemy.ext.automap import automap_base\n",
    "from sqlalchemy.orm import Session\n",
    "from sqlalchemy import create_engine, func"
   ]
  },
  {
   "cell_type": "code",
   "execution_count": 77,
   "metadata": {},
   "outputs": [],
   "source": [
    "engine = create_engine(\"sqlite:///Resources/hawaii.sqlite\")"
   ]
  },
  {
   "cell_type": "code",
   "execution_count": 78,
   "metadata": {},
   "outputs": [],
   "source": [
    "# reflect an existing database into a new model\n",
    "Base = automap_base()\n",
    "# reflect the tables\n",
    "Base.prepare(engine, reflect=True)"
   ]
  },
  {
   "cell_type": "code",
   "execution_count": 79,
   "metadata": {},
   "outputs": [
    {
     "data": {
      "text/plain": [
       "['measurement', 'station']"
      ]
     },
     "execution_count": 79,
     "metadata": {},
     "output_type": "execute_result"
    }
   ],
   "source": [
    "# We can view all of the classes that automap found\n",
    "Base.classes.keys()"
   ]
  },
  {
   "cell_type": "code",
   "execution_count": 80,
   "metadata": {},
   "outputs": [],
   "source": [
    "# Save references to each table\n",
    "Measurement = Base.classes.measurement\n",
    "Station = Base.classes.station"
   ]
  },
  {
   "cell_type": "code",
   "execution_count": 81,
   "metadata": {},
   "outputs": [],
   "source": [
    "# Create our session (link) from Python to the DB\n",
    "session = Session(engine)"
   ]
  },
  {
   "cell_type": "markdown",
   "metadata": {},
   "source": [
    "First Query:"
   ]
  },
  {
   "cell_type": "code",
   "execution_count": 82,
   "metadata": {},
   "outputs": [],
   "source": [
    "# Design a query to retrieve the last 12 months of precipitation data and plot the results\n",
    "query = session.query(Measurement.date, func.sum(Measurement.prcp)).group_by(Measurement.date).order_by(Measurement.id.desc()).limit(365).all()"
   ]
  },
  {
   "cell_type": "code",
   "execution_count": 83,
   "metadata": {},
   "outputs": [],
   "source": [
    "#Let's import Pandas\n",
    "import pandas as pd"
   ]
  },
  {
   "cell_type": "code",
   "execution_count": 84,
   "metadata": {},
   "outputs": [
    {
     "data": {
      "text/html": [
       "<div>\n",
       "<style scoped>\n",
       "    .dataframe tbody tr th:only-of-type {\n",
       "        vertical-align: middle;\n",
       "    }\n",
       "\n",
       "    .dataframe tbody tr th {\n",
       "        vertical-align: top;\n",
       "    }\n",
       "\n",
       "    .dataframe thead th {\n",
       "        text-align: right;\n",
       "    }\n",
       "</style>\n",
       "<table border=\"1\" class=\"dataframe\">\n",
       "  <thead>\n",
       "    <tr style=\"text-align: right;\">\n",
       "      <th></th>\n",
       "      <th>Date</th>\n",
       "      <th>Precipitation</th>\n",
       "    </tr>\n",
       "  </thead>\n",
       "  <tbody>\n",
       "    <tr>\n",
       "      <th>0</th>\n",
       "      <td>2014-09-06</td>\n",
       "      <td>1.76</td>\n",
       "    </tr>\n",
       "    <tr>\n",
       "      <th>1</th>\n",
       "      <td>2017-08-17</td>\n",
       "      <td>0.19</td>\n",
       "    </tr>\n",
       "    <tr>\n",
       "      <th>2</th>\n",
       "      <td>2017-08-16</td>\n",
       "      <td>0.61</td>\n",
       "    </tr>\n",
       "    <tr>\n",
       "      <th>3</th>\n",
       "      <td>2017-07-19</td>\n",
       "      <td>0.41</td>\n",
       "    </tr>\n",
       "    <tr>\n",
       "      <th>4</th>\n",
       "      <td>2017-05-26</td>\n",
       "      <td>0.02</td>\n",
       "    </tr>\n",
       "  </tbody>\n",
       "</table>\n",
       "</div>"
      ],
      "text/plain": [
       "         Date  Precipitation\n",
       "0  2014-09-06           1.76\n",
       "1  2017-08-17           0.19\n",
       "2  2017-08-16           0.61\n",
       "3  2017-07-19           0.41\n",
       "4  2017-05-26           0.02"
      ]
     },
     "execution_count": 84,
     "metadata": {},
     "output_type": "execute_result"
    }
   ],
   "source": [
    "#Create DF\n",
    "precipitation = pd.DataFrame(query, columns=['Date', 'Precipitation'])\n",
    "precipitation = precipitation.sort_index(ascending=True)\n",
    "precipitation.head()"
   ]
  },
  {
   "cell_type": "code",
   "execution_count": 85,
   "metadata": {},
   "outputs": [],
   "source": [
    "#Now let's import Matplot to plot charts:\n",
    "import matplotlib.pyplot as plt\n",
    "import numpy as np"
   ]
  },
  {
   "cell_type": "code",
   "execution_count": 86,
   "metadata": {},
   "outputs": [
    {
     "data": {
      "image/png": "[encoded data removed]",
      "text/plain": [
       "<Figure size 432x288 with 1 Axes>"
      ]
     },
     "metadata": {
      "needs_background": "light"
     },
     "output_type": "display_data"
    }
   ],
   "source": [
    "#Precipitation PLot!\n",
    "precipitation.plot()\n",
    "plt.title(\"Precipitation by Day\")\n",
    "plt.ylabel(\"Precipitation\")\n",
    "plt.show()"
   ]
  },
  {
   "cell_type": "code",
   "execution_count": 87,
   "metadata": {},
   "outputs": [
    {
     "data": {
      "text/html": [
       "<div>\n",
       "<style scoped>\n",
       "    .dataframe tbody tr th:only-of-type {\n",
       "        vertical-align: middle;\n",
       "    }\n",
       "\n",
       "    .dataframe tbody tr th {\n",
       "        vertical-align: top;\n",
       "    }\n",
       "\n",
       "    .dataframe thead th {\n",
       "        text-align: right;\n",
       "    }\n",
       "</style>\n",
       "<table border=\"1\" class=\"dataframe\">\n",
       "  <thead>\n",
       "    <tr style=\"text-align: right;\">\n",
       "      <th></th>\n",
       "      <th>Precipitation</th>\n",
       "    </tr>\n",
       "  </thead>\n",
       "  <tbody>\n",
       "    <tr>\n",
       "      <th>count</th>\n",
       "      <td>365.000000</td>\n",
       "    </tr>\n",
       "    <tr>\n",
       "      <th>mean</th>\n",
       "      <td>1.039068</td>\n",
       "    </tr>\n",
       "    <tr>\n",
       "      <th>std</th>\n",
       "      <td>2.212136</td>\n",
       "    </tr>\n",
       "    <tr>\n",
       "      <th>min</th>\n",
       "      <td>0.000000</td>\n",
       "    </tr>\n",
       "    <tr>\n",
       "      <th>25%</th>\n",
       "      <td>0.040000</td>\n",
       "    </tr>\n",
       "    <tr>\n",
       "      <th>50%</th>\n",
       "      <td>0.370000</td>\n",
       "    </tr>\n",
       "    <tr>\n",
       "      <th>75%</th>\n",
       "      <td>1.060000</td>\n",
       "    </tr>\n",
       "    <tr>\n",
       "      <th>max</th>\n",
       "      <td>23.590000</td>\n",
       "    </tr>\n",
       "  </tbody>\n",
       "</table>\n",
       "</div>"
      ],
      "text/plain": [
       "       Precipitation\n",
       "count     365.000000\n",
       "mean        1.039068\n",
       "std         2.212136\n",
       "min         0.000000\n",
       "25%         0.040000\n",
       "50%         0.370000\n",
       "75%         1.060000\n",
       "max        23.590000"
      ]
     },
     "execution_count": 87,
     "metadata": {},
     "output_type": "execute_result"
    }
   ],
   "source": [
    "# Use Pandas to calcualte the summary statistics for the precipitation data\n",
    "precipitation.describe()"
   ]
  },
  {
   "cell_type": "markdown",
   "metadata": {},
   "source": [
    "Second Query:"
   ]
  },
  {
   "cell_type": "code",
   "execution_count": 88,
   "metadata": {},
   "outputs": [
    {
     "data": {
      "text/plain": [
       "[(9)]"
      ]
     },
     "execution_count": 88,
     "metadata": {},
     "output_type": "execute_result"
    }
   ],
   "source": [
    "# Design a query to show how many stations are available in this dataset?\n",
    "stations_count = session.query(func.count(Station.id)).all()\n",
    "stations_count"
   ]
  },
  {
   "cell_type": "code",
   "execution_count": 89,
   "metadata": {},
   "outputs": [
    {
     "data": {
      "text/plain": [
       "[('USC00519281', 2772),\n",
       " ('USC00519397', 2724),\n",
       " ('USC00513117', 2709),\n",
       " ('USC00519523', 2669),\n",
       " ('USC00516128', 2612),\n",
       " ('USC00514830', 2202),\n",
       " ('USC00511918', 1979),\n",
       " ('USC00517948', 1372),\n",
       " ('USC00518838', 511)]"
      ]
     },
     "execution_count": 89,
     "metadata": {},
     "output_type": "execute_result"
    }
   ],
   "source": [
    "# What are the most active stations? (i.e. what stations have the most rows)?\n",
    "# List the stations and the counts in descending order.\n",
    "active_stations = session.query(Measurement.station, func.count(Measurement.station)).group_by(Measurement.station).order_by(func.count(Measurement.station).desc()).all()\n",
    "active_stations"
   ]
  },
  {
   "cell_type": "code",
   "execution_count": 90,
   "metadata": {},
   "outputs": [
    {
     "data": {
      "text/plain": [
       "('USC00519281', 54.0, 85.0, 71.66378066378067)"
      ]
     },
     "execution_count": 90,
     "metadata": {},
     "output_type": "execute_result"
    }
   ],
   "source": [
    "# Using the station id from the previous query, calculate the lowest temperature recorded, \n",
    "# highest temperature recorded, and average temperature most active station?\n",
    "temperature_query = [Measurement.station, func.min(Measurement.tobs), func.max(Measurement.tobs), func.avg(Measurement.tobs)]\n",
    "\n",
    "tmp = session.query(*temperature_query).group_by(Measurement.station).order_by(func.count(Measurement.station).desc()).first()\n",
    "tmp"
   ]
  },
  {
   "cell_type": "code",
   "execution_count": 91,
   "metadata": {},
   "outputs": [
    {
     "data": {
      "text/plain": [
       "[('2017-08-18', 79.0),\n",
       " ('2017-08-17', 76.0),\n",
       " ('2017-08-16', 76.0),\n",
       " ('2017-08-15', 77.0),\n",
       " ('2017-08-14', 77.0),\n",
       " ('2017-08-13', 77.0),\n",
       " ('2017-08-06', 83.0),\n",
       " ('2017-08-05', 82.0),\n",
       " ('2017-08-04', 77.0),\n",
       " ('2017-07-31', 76.0),\n",
       " ('2017-07-30', 81.0),\n",
       " ('2017-07-29', 82.0),\n",
       " ('2017-07-28', 81.0),\n",
       " ('2017-07-27', 76.0),\n",
       " ('2017-07-26', 75.0),\n",
       " ('2017-07-25', 77.0),\n",
       " ('2017-07-24', 75.0),\n",
       " ('2017-07-23', 82.0),\n",
       " ('2017-07-22', 77.0),\n",
       " ('2017-07-21', 77.0),\n",
       " ('2017-07-20', 77.0),\n",
       " ('2017-07-19', 76.0),\n",
       " ('2017-07-18', 76.0),\n",
       " ('2017-07-17', 76.0),\n",
       " ('2017-07-16', 80.0),\n",
       " ('2017-07-15', 80.0),\n",
       " ('2017-07-14', 76.0),\n",
       " ('2017-07-13', 74.0),\n",
       " ('2017-07-12', 74.0),\n",
       " ('2017-07-11', 72.0),\n",
       " ('2017-07-10', 69.0),\n",
       " ('2017-07-09', 78.0),\n",
       " ('2017-07-08', 78.0),\n",
       " ('2017-07-07', 75.0),\n",
       " ('2017-07-06', 74.0),\n",
       " ('2017-07-05', 77.0),\n",
       " ('2017-07-04', 78.0),\n",
       " ('2017-07-03', 76.0),\n",
       " ('2017-07-02', 81.0),\n",
       " ('2017-07-01', 79.0),\n",
       " ('2017-06-30', 76.0),\n",
       " ('2017-06-29', 76.0),\n",
       " ('2017-06-28', 77.0),\n",
       " ('2017-06-27', 76.0),\n",
       " ('2017-06-26', 73.0),\n",
       " ('2017-06-25', 71.0),\n",
       " ('2017-06-24', 77.0),\n",
       " ('2017-06-23', 72.0),\n",
       " ('2017-06-22', 72.0),\n",
       " ('2017-06-21', 74.0),\n",
       " ('2017-06-20', 72.0),\n",
       " ('2017-06-19', 72.0),\n",
       " ('2017-06-18', 75.0),\n",
       " ('2017-06-17', 79.0),\n",
       " ('2017-06-16', 73.0),\n",
       " ('2017-06-15', 75.0),\n",
       " ('2017-06-14', 74.0),\n",
       " ('2017-06-13', 76.0),\n",
       " ('2017-06-12', 74.0),\n",
       " ('2017-06-11', 74.0),\n",
       " ('2017-06-10', 74.0),\n",
       " ('2017-06-09', 72.0),\n",
       " ('2017-06-08', 75.0),\n",
       " ('2017-06-07', 75.0),\n",
       " ('2017-06-06', 75.0),\n",
       " ('2017-06-05', 75.0),\n",
       " ('2017-06-04', 77.0),\n",
       " ('2017-06-03', 76.0),\n",
       " ('2017-06-02', 76.0),\n",
       " ('2017-06-01', 80.0),\n",
       " ('2017-05-31', 75.0),\n",
       " ('2017-05-30', 72.0),\n",
       " ('2017-05-29', 74.0),\n",
       " ('2017-05-28', 80.0),\n",
       " ('2017-05-27', 74.0),\n",
       " ('2017-05-26', 74.0),\n",
       " ('2017-05-25', 74.0),\n",
       " ('2017-05-24', 74.0),\n",
       " ('2017-05-23', 71.0),\n",
       " ('2017-05-22', 71.0),\n",
       " ('2017-05-21', 74.0),\n",
       " ('2017-05-20', 76.0),\n",
       " ('2017-05-19', 68.0),\n",
       " ('2017-05-18', 69.0),\n",
       " ('2017-05-17', 74.0),\n",
       " ('2017-05-16', 74.0),\n",
       " ('2017-05-15', 74.0),\n",
       " ('2017-05-14', 77.0),\n",
       " ('2017-05-13', 76.0),\n",
       " ('2017-05-12', 75.0),\n",
       " ('2017-05-11', 70.0),\n",
       " ('2017-05-10', 74.0),\n",
       " ('2017-05-09', 67.0),\n",
       " ('2017-05-08', 70.0),\n",
       " ('2017-05-07', 75.0),\n",
       " ('2017-05-06', 79.0),\n",
       " ('2017-05-05', 70.0),\n",
       " ('2017-05-04', 75.0),\n",
       " ('2017-05-03', 70.0),\n",
       " ('2017-05-02', 75.0),\n",
       " ('2017-05-01', 65.0),\n",
       " ('2017-04-30', 60.0),\n",
       " ('2017-04-29', 72.0),\n",
       " ('2017-04-28', 67.0),\n",
       " ('2017-04-27', 70.0),\n",
       " ('2017-04-26', 74.0),\n",
       " ('2017-04-25', 72.0),\n",
       " ('2017-04-24', 68.0),\n",
       " ('2017-04-23', 76.0),\n",
       " ('2017-04-22', 72.0),\n",
       " ('2017-04-21', 69.0),\n",
       " ('2017-04-20', 76.0),\n",
       " ('2017-04-19', 67.0),\n",
       " ('2017-04-18', 68.0),\n",
       " ('2017-04-17', 67.0),\n",
       " ('2017-04-16', 71.0),\n",
       " ('2017-04-15', 78.0),\n",
       " ('2017-04-14', 74.0),\n",
       " ('2017-04-13', 69.0),\n",
       " ('2017-04-12', 69.0),\n",
       " ('2017-04-11', 70.0),\n",
       " ('2017-04-10', 67.0),\n",
       " ('2017-04-09', 78.0),\n",
       " ('2017-04-08', 77.0),\n",
       " ('2017-04-07', 74.0),\n",
       " ('2017-04-06', 67.0),\n",
       " ('2017-04-05', 71.0),\n",
       " ('2017-04-04', 67.0),\n",
       " ('2017-04-03', 70.0),\n",
       " ('2017-04-02', 75.0),\n",
       " ('2017-04-01', 74.0),\n",
       " ('2017-03-31', 71.0),\n",
       " ('2017-03-30', 73.0),\n",
       " ('2017-03-29', 68.0),\n",
       " ('2017-03-28', 74.0),\n",
       " ('2017-03-27', 76.0),\n",
       " ('2017-03-26', 77.0),\n",
       " ('2017-03-25', 76.0),\n",
       " ('2017-03-24', 71.0),\n",
       " ('2017-03-23', 72.0),\n",
       " ('2017-03-22', 73.0),\n",
       " ('2017-03-21', 72.0),\n",
       " ('2017-03-20', 69.0),\n",
       " ('2017-03-19', 74.0),\n",
       " ('2017-03-18', 65.0),\n",
       " ('2017-03-17', 68.0),\n",
       " ('2017-03-16', 66.0),\n",
       " ('2017-03-15', 69.0),\n",
       " ('2017-03-14', 67.0),\n",
       " ('2017-03-13', 66.0),\n",
       " ('2017-03-12', 69.0),\n",
       " ('2017-03-11', 81.0),\n",
       " ('2017-03-10', 66.0),\n",
       " ('2017-03-09', 67.0),\n",
       " ('2017-03-08', 64.0),\n",
       " ('2017-03-07', 62.0),\n",
       " ('2017-03-06', 67.0),\n",
       " ('2017-03-05', 73.0),\n",
       " ('2017-03-04', 77.0),\n",
       " ('2017-03-03', 72.0),\n",
       " ('2017-03-02', 73.0),\n",
       " ('2017-03-01', 71.0),\n",
       " ('2017-02-28', 72.0),\n",
       " ('2017-02-27', 65.0),\n",
       " ('2017-02-26', 67.0),\n",
       " ('2017-02-25', 61.0),\n",
       " ('2017-02-24', 69.0),\n",
       " ('2017-02-23', 71.0),\n",
       " ('2017-02-22', 71.0),\n",
       " ('2017-02-21', 71.0),\n",
       " ('2017-02-20', 70.0),\n",
       " ('2017-02-19', 70.0),\n",
       " ('2017-02-18', 74.0),\n",
       " ('2017-02-17', 70.0),\n",
       " ('2017-02-16', 65.0),\n",
       " ('2017-02-15', 75.0),\n",
       " ('2017-02-14', 79.0),\n",
       " ('2017-02-13', 73.0),\n",
       " ('2017-02-12', 70.0),\n",
       " ('2017-02-11', 68.0),\n",
       " ('2017-02-10', 62.0),\n",
       " ('2017-02-09', 59.0),\n",
       " ('2017-02-08', 59.0),\n",
       " ('2017-02-07', 64.0),\n",
       " ('2017-02-06', 75.0),\n",
       " ('2017-02-05', 73.0),\n",
       " ('2017-02-04', 70.0),\n",
       " ('2017-02-03', 60.0),\n",
       " ('2017-02-02', 59.0),\n",
       " ('2017-02-01', 68.0),\n",
       " ('2017-01-31', 68.0),\n",
       " ('2017-01-30', 68.0),\n",
       " ('2017-01-29', 69.0),\n",
       " ('2017-01-28', 65.0),\n",
       " ('2017-01-27', 66.0),\n",
       " ('2017-01-26', 70.0),\n",
       " ('2017-01-25', 69.0),\n",
       " ('2017-01-24', 72.0),\n",
       " ('2017-01-23', 72.0),\n",
       " ('2017-01-22', 71.0),\n",
       " ('2017-01-21', 71.0),\n",
       " ('2017-01-20', 69.0),\n",
       " ('2017-01-19', 71.0),\n",
       " ('2017-01-18', 72.0),\n",
       " ('2017-01-17', 69.0),\n",
       " ('2017-01-16', 74.0),\n",
       " ('2017-01-15', 70.0),\n",
       " ('2017-01-14', 77.0),\n",
       " ('2017-01-13', 69.0),\n",
       " ('2017-01-12', 65.0),\n",
       " ('2017-01-11', 63.0),\n",
       " ('2017-01-10', 62.0),\n",
       " ('2017-01-09', 62.0),\n",
       " ('2017-01-08', 70.0),\n",
       " ('2017-01-07', 70.0),\n",
       " ('2017-01-06', 62.0),\n",
       " ('2017-01-05', 63.0),\n",
       " ('2017-01-04', 63.0),\n",
       " ('2017-01-03', 64.0),\n",
       " ('2017-01-02', 70.0),\n",
       " ('2017-01-01', 72.0),\n",
       " ('2016-12-31', 67.0),\n",
       " ('2016-12-30', 69.0),\n",
       " ('2016-12-29', 74.0),\n",
       " ('2016-12-28', 72.0),\n",
       " ('2016-12-27', 71.0),\n",
       " ('2016-12-26', 72.0),\n",
       " ('2016-12-25', 74.0),\n",
       " ('2016-12-24', 74.0),\n",
       " ('2016-12-23', 71.0),\n",
       " ('2016-12-22', 73.0),\n",
       " ('2016-12-21', 74.0),\n",
       " ('2016-12-20', 76.0),\n",
       " ('2016-12-19', 76.0),\n",
       " ('2016-12-18', 69.0),\n",
       " ('2016-12-17', 70.0),\n",
       " ('2016-12-16', 75.0),\n",
       " ('2016-12-15', 62.0),\n",
       " ('2016-12-14', 68.0),\n",
       " ('2016-12-13', 65.0),\n",
       " ('2016-12-12', 66.0),\n",
       " ('2016-12-11', 69.0),\n",
       " ('2016-12-10', 69.0),\n",
       " ('2016-12-09', 68.0),\n",
       " ('2016-12-08', 70.0),\n",
       " ('2016-12-07', 69.0),\n",
       " ('2016-12-06', 67.0),\n",
       " ('2016-12-05', 67.0),\n",
       " ('2016-12-04', 70.0),\n",
       " ('2016-12-03', 72.0),\n",
       " ('2016-12-02', 70.0),\n",
       " ('2016-12-01', 74.0),\n",
       " ('2016-11-30', 73.0),\n",
       " ('2016-11-29', 73.0),\n",
       " ('2016-11-28', 75.0),\n",
       " ('2016-11-27', 73.0),\n",
       " ('2016-11-26', 75.0),\n",
       " ('2016-11-25', 74.0),\n",
       " ('2016-11-24', 75.0),\n",
       " ('2016-11-23', 74.0),\n",
       " ('2016-11-22', 75.0),\n",
       " ('2016-11-21', 73.0),\n",
       " ('2016-11-20', 75.0),\n",
       " ('2016-11-19', 73.0),\n",
       " ('2016-11-18', 75.0),\n",
       " ('2016-11-17', 76.0),\n",
       " ('2016-11-16', 75.0),\n",
       " ('2016-11-15', 76.0),\n",
       " ('2016-11-14', 76.0),\n",
       " ('2016-11-13', 77.0),\n",
       " ('2016-11-12', 74.0),\n",
       " ('2016-11-11', 77.0),\n",
       " ('2016-11-10', 67.0),\n",
       " ('2016-11-09', 68.0),\n",
       " ('2016-11-08', 70.0),\n",
       " ('2016-11-07', 63.0),\n",
       " ('2016-11-06', 71.0),\n",
       " ('2016-11-05', 75.0),\n",
       " ('2016-11-04', 75.0),\n",
       " ('2016-11-03', 75.0),\n",
       " ('2016-11-02', 75.0),\n",
       " ('2016-11-01', 74.0),\n",
       " ('2016-10-31', 76.0),\n",
       " ('2016-10-30', 76.0),\n",
       " ('2016-10-29', 77.0),\n",
       " ('2016-10-28', 74.0),\n",
       " ('2016-10-27', 76.0),\n",
       " ('2016-10-26', 73.0),\n",
       " ('2016-10-25', 76.0),\n",
       " ('2016-10-24', 75.0),\n",
       " ('2016-10-23', 74.0),\n",
       " ('2016-10-22', 77.0),\n",
       " ('2016-10-21', 78.0),\n",
       " ('2016-10-20', 78.0),\n",
       " ('2016-10-19', 78.0),\n",
       " ('2016-10-18', 78.0),\n",
       " ('2016-10-17', 77.0),\n",
       " ('2016-10-16', 79.0),\n",
       " ('2016-10-15', 77.0),\n",
       " ('2016-10-14', 79.0),\n",
       " ('2016-10-13', 78.0),\n",
       " ('2016-10-12', 79.0),\n",
       " ('2016-10-11', 77.0),\n",
       " ('2016-10-10', 71.0),\n",
       " ('2016-10-09', 72.0),\n",
       " ('2016-10-08', 73.0),\n",
       " ('2016-10-07', 76.0),\n",
       " ('2016-10-06', 75.0),\n",
       " ('2016-10-05', 79.0),\n",
       " ('2016-10-04', 79.0),\n",
       " ('2016-10-03', 79.0),\n",
       " ('2016-10-02', 79.0),\n",
       " ('2016-10-01', 77.0),\n",
       " ('2016-09-30', 78.0),\n",
       " ('2016-09-29', 78.0),\n",
       " ('2016-09-28', 78.0),\n",
       " ('2016-09-27', 80.0),\n",
       " ('2016-09-26', 77.0),\n",
       " ('2016-09-25', 79.0),\n",
       " ('2016-09-24', 79.0),\n",
       " ('2016-09-23', 78.0),\n",
       " ('2016-09-22', 77.0),\n",
       " ('2016-09-21', 74.0),\n",
       " ('2016-09-20', 76.0),\n",
       " ('2016-09-19', 78.0),\n",
       " ('2016-09-18', 78.0),\n",
       " ('2016-09-17', 79.0),\n",
       " ('2016-09-16', 78.0),\n",
       " ('2016-09-15', 79.0),\n",
       " ('2016-09-14', 75.0),\n",
       " ('2016-09-13', 79.0),\n",
       " ('2016-09-12', 76.0),\n",
       " ('2016-09-11', 80.0),\n",
       " ('2016-09-10', 77.0),\n",
       " ('2016-09-09', 79.0),\n",
       " ('2016-09-08', 80.0),\n",
       " ('2016-09-07', 74.0),\n",
       " ('2016-09-06', 73.0),\n",
       " ('2016-09-05', 78.0),\n",
       " ('2016-09-04', 78.0),\n",
       " ('2016-09-03', 78.0),\n",
       " ('2016-09-02', 80.0),\n",
       " ('2016-09-01', 80.0),\n",
       " ('2016-08-31', 78.0),\n",
       " ('2016-08-30', 77.0),\n",
       " ('2016-08-29', 78.0),\n",
       " ('2016-08-28', 73.0),\n",
       " ('2016-08-27', 75.0),\n",
       " ('2016-08-26', 80.0),\n",
       " ('2016-08-25', 80.0),\n",
       " ('2016-08-24', 77.0),\n",
       " ('2016-08-23', 77.0),\n",
       " ('2016-08-22', 78.0),\n",
       " ('2016-08-21', 79.0),\n",
       " ('2016-08-20', 81.0),\n",
       " ('2016-08-19', 79.0),\n",
       " ('2016-08-18', 80.0),\n",
       " ('2016-08-17', 82.0),\n",
       " ('2016-08-16', 74.0),\n",
       " ('2016-08-15', 75.0),\n",
       " ('2016-08-14', 76.0),\n",
       " ('2016-08-13', 80.0),\n",
       " ('2016-08-12', 76.0),\n",
       " ('2016-08-11', 80.0),\n",
       " ('2016-08-10', 82.0)]"
      ]
     },
     "execution_count": 91,
     "metadata": {},
     "output_type": "execute_result"
    }
   ],
   "source": [
    "# Choose the station with the highest number of temperature observations.\n",
    "# Query the last 12 months of temperature observation data for this station and plot the results as a histogram\n",
    "highest_station = \"USC00519281\"\n",
    "\n",
    "tobs = session.query(Measurement.date, Measurement.tobs).order_by(Measurement.id.desc()).filter(Measurement.station == highest_station).limit(365).all()\n",
    "    \n",
    "tobs"
   ]
  },
  {
   "cell_type": "code",
   "execution_count": 92,
   "metadata": {},
   "outputs": [
    {
     "data": {
      "image/png": "[encoded data removed]",
      "text/plain": [
       "<Figure size 720x576 with 1 Axes>"
      ]
     },
     "metadata": {
      "needs_background": "light"
     },
     "output_type": "display_data"
    }
   ],
   "source": [
    "#Lets plot the Histogram\n",
    "tobs_df = pd.DataFrame(tobs, columns=[\"Date\", \"Temperature Query\"])\n",
    "\n",
    "plt.figure(figsize=(10,8))\n",
    "plt.hist(tobs_df[\"Temperature Query\"], bins=12)\n",
    "plt.grid(color='grey', linestyle='-', linewidth=2, alpha=.2)\n",
    "plt.ylabel(\"Frequency\")\n",
    "plt.xlabel(\"Temperature\")\n",
    "plt.title(\"Temperatures Frequency\")\n",
    "#plt.savefig(\"../figures/TempHisto\")\n",
    "plt.show()"
   ]
  },
  {
   "cell_type": "markdown",
   "metadata": {},
   "source": [
    "Third Query:"
   ]
  },
  {
   "cell_type": "code",
   "execution_count": 95,
   "metadata": {},
   "outputs": [
    {
     "data": {
      "text/plain": [
       "[(62.0, 69.57142857142857, 74.0)]"
      ]
     },
     "execution_count": 95,
     "metadata": {},
     "output_type": "execute_result"
    }
   ],
   "source": [
    "# This function called `calc_temps` will accept start date and end date in the format '%Y-%m-%d' \n",
    "# and return the minimum, average, and maximum temperatures for that range of dates\n",
    "def calc_temps(start_date, end_date):\n",
    "    \"\"\"TMIN, TAVG, and TMAX for a list of dates.\n",
    "    \n",
    "    Args:\n",
    "        start_date (string): A date string in the format %Y-%m-%d\n",
    "        end_date (string): A date string in the format %Y-%m-%d\n",
    "        \n",
    "    Returns:\n",
    "        TMIN, TAVE, and TMAX\n",
    "    \"\"\"\n",
    "    \n",
    "    return session.query(func.min(Measurement.tobs), func.avg(Measurement.tobs), func.max(Measurement.tobs)).\\\n",
    "        filter(Measurement.date >= start_date).filter(Measurement.date <= end_date).all()\n",
    "\n",
    "# function usage example\n",
    "#print(calc_temps('2012-02-28', '2012-03-05'))\n",
    "\n",
    "variable = calc_temps('2012-02-28', '2012-03-05')\n",
    "variable"
   ]
  },
  {
   "cell_type": "code",
   "execution_count": 113,
   "metadata": {},
   "outputs": [
    {
     "ename": "TypeError",
     "evalue": "unsupported operand type(s) for -: 'NoneType' and 'float'",
     "output_type": "error",
     "traceback": [
      "\u001b[1;31m---------------------------------------------------------------------------\u001b[0m",
      "\u001b[1;31mTypeError\u001b[0m                                 Traceback (most recent call last)",
      "\u001b[1;32m<ipython-input-113-3a3851d33bda>\u001b[0m in \u001b[0;36m<module>\u001b[1;34m\u001b[0m\n\u001b[0;32m     11\u001b[0m \u001b[0mplt\u001b[0m\u001b[1;33m.\u001b[0m\u001b[0mxlim\u001b[0m\u001b[1;33m(\u001b[0m\u001b[1;36m0\u001b[0m\u001b[1;33m,\u001b[0m \u001b[1;36m2\u001b[0m\u001b[1;33m)\u001b[0m\u001b[1;33m\u001b[0m\u001b[1;33m\u001b[0m\u001b[0m\n\u001b[0;32m     12\u001b[0m \u001b[0mplt\u001b[0m\u001b[1;33m.\u001b[0m\u001b[0mylim\u001b[0m\u001b[1;33m(\u001b[0m\u001b[1;33m[\u001b[0m\u001b[1;36m0\u001b[0m\u001b[1;33m,\u001b[0m\u001b[1;36m110\u001b[0m\u001b[1;33m]\u001b[0m\u001b[1;33m)\u001b[0m\u001b[1;33m\u001b[0m\u001b[1;33m\u001b[0m\u001b[0m\n\u001b[1;32m---> 13\u001b[1;33m \u001b[0mplt\u001b[0m\u001b[1;33m.\u001b[0m\u001b[0mbar\u001b[0m\u001b[1;33m(\u001b[0m\u001b[0mTAVG\u001b[0m\u001b[1;33m,\u001b[0m \u001b[0mcolor\u001b[0m \u001b[1;33m=\u001b[0m \u001b[1;34m'red'\u001b[0m\u001b[1;33m,\u001b[0m \u001b[0mheight\u001b[0m \u001b[1;33m=\u001b[0m \u001b[1;36m1\u001b[0m\u001b[1;33m,\u001b[0m \u001b[0myerr\u001b[0m \u001b[1;33m=\u001b[0m \u001b[0mTMAX\u001b[0m\u001b[1;33m-\u001b[0m\u001b[0mTMIN\u001b[0m\u001b[1;33m,\u001b[0m \u001b[0mtick_label\u001b[0m\u001b[1;33m=\u001b[0m\u001b[1;34m\"\"\u001b[0m\u001b[1;33m,\u001b[0m \u001b[0malign\u001b[0m\u001b[1;33m=\u001b[0m\u001b[1;34m'center'\u001b[0m\u001b[1;33m)\u001b[0m\u001b[1;33m\u001b[0m\u001b[1;33m\u001b[0m\u001b[0m\n\u001b[0m\u001b[0;32m     14\u001b[0m \u001b[0mplt\u001b[0m\u001b[1;33m.\u001b[0m\u001b[0mylabel\u001b[0m\u001b[1;33m(\u001b[0m\u001b[1;34m\"Temp\"\u001b[0m\u001b[1;33m)\u001b[0m\u001b[1;33m\u001b[0m\u001b[1;33m\u001b[0m\u001b[0m\n\u001b[0;32m     15\u001b[0m \u001b[1;33m\u001b[0m\u001b[0m\n",
      "\u001b[1;32m~\\Anaconda3\\lib\\site-packages\\matplotlib\\pyplot.py\u001b[0m in \u001b[0;36mbar\u001b[1;34m(x, height, width, bottom, align, data, **kwargs)\u001b[0m\n\u001b[0;32m   2457\u001b[0m     return gca().bar(\n\u001b[0;32m   2458\u001b[0m         \u001b[0mx\u001b[0m\u001b[1;33m,\u001b[0m \u001b[0mheight\u001b[0m\u001b[1;33m,\u001b[0m \u001b[0mwidth\u001b[0m\u001b[1;33m=\u001b[0m\u001b[0mwidth\u001b[0m\u001b[1;33m,\u001b[0m \u001b[0mbottom\u001b[0m\u001b[1;33m=\u001b[0m\u001b[0mbottom\u001b[0m\u001b[1;33m,\u001b[0m \u001b[0malign\u001b[0m\u001b[1;33m=\u001b[0m\u001b[0malign\u001b[0m\u001b[1;33m,\u001b[0m\u001b[1;33m\u001b[0m\u001b[1;33m\u001b[0m\u001b[0m\n\u001b[1;32m-> 2459\u001b[1;33m         **({\"data\": data} if data is not None else {}), **kwargs)\n\u001b[0m\u001b[0;32m   2460\u001b[0m \u001b[1;33m\u001b[0m\u001b[0m\n\u001b[0;32m   2461\u001b[0m \u001b[1;33m\u001b[0m\u001b[0m\n",
      "\u001b[1;32m~\\Anaconda3\\lib\\site-packages\\matplotlib\\__init__.py\u001b[0m in \u001b[0;36minner\u001b[1;34m(ax, data, *args, **kwargs)\u001b[0m\n\u001b[0;32m   1808\u001b[0m                         \u001b[1;34m\"the Matplotlib list!)\"\u001b[0m \u001b[1;33m%\u001b[0m \u001b[1;33m(\u001b[0m\u001b[0mlabel_namer\u001b[0m\u001b[1;33m,\u001b[0m \u001b[0mfunc\u001b[0m\u001b[1;33m.\u001b[0m\u001b[0m__name__\u001b[0m\u001b[1;33m)\u001b[0m\u001b[1;33m,\u001b[0m\u001b[1;33m\u001b[0m\u001b[1;33m\u001b[0m\u001b[0m\n\u001b[0;32m   1809\u001b[0m                         RuntimeWarning, stacklevel=2)\n\u001b[1;32m-> 1810\u001b[1;33m             \u001b[1;32mreturn\u001b[0m \u001b[0mfunc\u001b[0m\u001b[1;33m(\u001b[0m\u001b[0max\u001b[0m\u001b[1;33m,\u001b[0m \u001b[1;33m*\u001b[0m\u001b[0margs\u001b[0m\u001b[1;33m,\u001b[0m \u001b[1;33m**\u001b[0m\u001b[0mkwargs\u001b[0m\u001b[1;33m)\u001b[0m\u001b[1;33m\u001b[0m\u001b[1;33m\u001b[0m\u001b[0m\n\u001b[0m\u001b[0;32m   1811\u001b[0m \u001b[1;33m\u001b[0m\u001b[0m\n\u001b[0;32m   1812\u001b[0m         inner.__doc__ = _add_data_doc(inner.__doc__,\n",
      "\u001b[1;32m~\\Anaconda3\\lib\\site-packages\\matplotlib\\axes\\_axes.py\u001b[0m in \u001b[0;36mbar\u001b[1;34m(self, x, height, width, bottom, align, **kwargs)\u001b[0m\n\u001b[0;32m   2275\u001b[0m         \u001b[1;32mif\u001b[0m \u001b[0malign\u001b[0m \u001b[1;33m==\u001b[0m \u001b[1;34m'center'\u001b[0m\u001b[1;33m:\u001b[0m\u001b[1;33m\u001b[0m\u001b[1;33m\u001b[0m\u001b[0m\n\u001b[0;32m   2276\u001b[0m             \u001b[1;32mif\u001b[0m \u001b[0morientation\u001b[0m \u001b[1;33m==\u001b[0m \u001b[1;34m'vertical'\u001b[0m\u001b[1;33m:\u001b[0m\u001b[1;33m\u001b[0m\u001b[1;33m\u001b[0m\u001b[0m\n\u001b[1;32m-> 2277\u001b[1;33m                 \u001b[0mleft\u001b[0m \u001b[1;33m=\u001b[0m \u001b[0mx\u001b[0m \u001b[1;33m-\u001b[0m \u001b[0mwidth\u001b[0m \u001b[1;33m/\u001b[0m \u001b[1;36m2\u001b[0m\u001b[1;33m\u001b[0m\u001b[1;33m\u001b[0m\u001b[0m\n\u001b[0m\u001b[0;32m   2278\u001b[0m                 \u001b[0mbottom\u001b[0m \u001b[1;33m=\u001b[0m \u001b[0my\u001b[0m\u001b[1;33m\u001b[0m\u001b[1;33m\u001b[0m\u001b[0m\n\u001b[0;32m   2279\u001b[0m             \u001b[1;32melif\u001b[0m \u001b[0morientation\u001b[0m \u001b[1;33m==\u001b[0m \u001b[1;34m'horizontal'\u001b[0m\u001b[1;33m:\u001b[0m\u001b[1;33m\u001b[0m\u001b[1;33m\u001b[0m\u001b[0m\n",
      "\u001b[1;31mTypeError\u001b[0m: unsupported operand type(s) for -: 'NoneType' and 'float'"
     ]
    },
    {
     "data": {
      "image/png": "[encoded data removed]",
      "text/plain": [
       "<Figure size 432x360 with 1 Axes>"
      ]
     },
     "metadata": {
      "needs_background": "light"
     },
     "output_type": "display_data"
    }
   ],
   "source": [
    "start_date = \"2018-11-10\"\n",
    "end_date = \"2018-11-24\" \n",
    "\n",
    "temp_query = calc_temps(\"2012-02-28\", \"2012-03-05\")\n",
    "\n",
    "TMIN = temp_query[0][0]\n",
    "TAVE = temp_query[0][1]\n",
    "TMAX = temp_query[0][2]\n",
    "\n",
    "plt.subplots(figsize=(6,5))\n",
    "plt.xlim(0, 2)\n",
    "plt.ylim([0,110])\n",
    "plt.bar(TAVG, color = 'red', height = 1, yerr = TMAX-TMIN, tick_label=\"\", align='center')\n",
    "plt.ylabel(\"Temp\")\n",
    "\n",
    "plt.show()\n",
    "\n",
    "#TMAX"
   ]
  },
  {
   "cell_type": "code",
   "execution_count": null,
   "metadata": {},
   "outputs": [],
   "source": []
  }
 ],
 "metadata": {
  "kernelspec": {
   "display_name": "Python 3",
   "language": "python",
   "name": "python3"
  },
  "language_info": {
   "codemirror_mode": {
    "name": "ipython",
    "version": 3
   },
   "file_extension": ".py",
   "mimetype": "text/x-python",
   "name": "python",
   "nbconvert_exporter": "python",
   "pygments_lexer": "ipython3",
   "version": "3.7.1"
  }
 },
 "nbformat": 4,
 "nbformat_minor": 2
}
